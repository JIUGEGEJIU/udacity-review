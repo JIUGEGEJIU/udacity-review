{
 "cells": [
  {
   "cell_type": "code",
   "execution_count": 1,
   "metadata": {},
   "outputs": [],
   "source": [
    "import pandas as pd \n",
    "import numpy as np \n",
    "from sklearn.model_selection import train_test_split\n",
    "from sklearn.model_selection import cross_val_score\n",
    "from sklearn.linear_model import LinearRegression\n",
    "from data_preprocess import data_preprocess\n",
    "from extract_features import extract_features\n",
    "from rmspe import *"
   ]
  },
  {
   "cell_type": "code",
   "execution_count": 2,
   "metadata": {},
   "outputs": [
    {
     "name": "stderr",
     "output_type": "stream",
     "text": [
      "C:\\Users\\venom\\AppData\\Roaming\\Python\\Python36\\site-packages\\IPython\\core\\interactiveshell.py:3049: DtypeWarning: Columns (7) have mixed types. Specify dtype option on import or set low_memory=False.\n",
      "  interactivity=interactivity, compiler=compiler, result=result)\n"
     ]
    }
   ],
   "source": [
    "train = pd.read_csv(\"source data/train.csv\", parse_dates=[2])\n",
    "test = pd.read_csv(\"source data/test.csv\", parse_dates=[3])\n",
    "store = pd.read_csv(\"source data/store.csv\")"
   ]
  },
  {
   "cell_type": "code",
   "execution_count": 3,
   "metadata": {},
   "outputs": [
    {
     "name": "stderr",
     "output_type": "stream",
     "text": [
      "D:\\programming\\python_project\\study_ai\\Huangyaoxian-Rossman-Store-Sales-Prediction\\data_preprocess.py:9: FutureWarning: Sorting because non-concatenation axis is not aligned. A future version\n",
      "of pandas will change to not sort by default.\n",
      "\n",
      "To accept the future behavior, pass 'sort=False'.\n",
      "\n",
      "To retain the current behavior and silence the warning, pass 'sort=True'.\n",
      "\n",
      "  train_test = pd.concat([train, test])\n",
      "D:\\programming\\python_project\\study_ai\\Huangyaoxian-Rossman-Store-Sales-Prediction\\data_preprocess.py:35: SettingWithCopyWarning: \n",
      "A value is trying to be set on a copy of a slice from a DataFrame\n",
      "\n",
      "See the caveats in the documentation: http://pandas.pydata.org/pandas-docs/stable/indexing.html#indexing-view-versus-copy\n",
      "  store[\"CompetitionOpenSinceYear\"][(store[\"CompetitionDistance\"] != 0) & (store[\"CompetitionOpenSinceYear\"].isnull())] = 1900\n",
      "D:\\programming\\python_project\\study_ai\\Huangyaoxian-Rossman-Store-Sales-Prediction\\data_preprocess.py:36: SettingWithCopyWarning: \n",
      "A value is trying to be set on a copy of a slice from a DataFrame\n",
      "\n",
      "See the caveats in the documentation: http://pandas.pydata.org/pandas-docs/stable/indexing.html#indexing-view-versus-copy\n",
      "  store[\"CompetitionOpenSinceMonth\"][(store[\"CompetitionDistance\"] != 0) & (store[\"CompetitionOpenSinceMonth\"].isnull())] = 1\n"
     ]
    }
   ],
   "source": [
    "df_preprocessed = data_preprocess(train, test, store)"
   ]
  },
  {
   "cell_type": "code",
   "execution_count": 4,
   "metadata": {},
   "outputs": [],
   "source": [
    "features = []\n",
    "df_with_all_features = extract_features(features, df_preprocessed)"
   ]
  },
  {
   "cell_type": "code",
   "execution_count": 5,
   "metadata": {},
   "outputs": [
    {
     "name": "stdout",
     "output_type": "stream",
     "text": [
      "['AvgSales', 'AvgCustomers', 'AvgSalesPerCustomer', 'MedianCustomers', 'AvgSalesPerDayOfWeek', 'MedianSalesPerDayOfWeek', 'AvgCustomersPerDayOfWeek', 'MedianCustomersPerDayOfWeek', 'Store', 'CompetitionDistance', 'Promo', 'Promo2', 'StoreType', 'Assortment', 'StateHoliday', 'SchoolHoliday', 'Year', 'Month', 'WeekOfYear', 'DayOfWeek', 'DayOfMonth', 'DayOfYear']\n"
     ]
    }
   ],
   "source": [
    "print(features)"
   ]
  },
  {
   "cell_type": "code",
   "execution_count": 6,
   "metadata": {},
   "outputs": [],
   "source": [
    "df_train = df_with_all_features[df_with_all_features['DataSetFlag'] == 1]\n",
    "df_test = df_with_all_features[df_with_all_features['DataSetFlag'] == 0]"
   ]
  },
  {
   "cell_type": "code",
   "execution_count": 7,
   "metadata": {},
   "outputs": [],
   "source": [
    "# 选取与test数据集相同时间跨度的数据作为validation data set\n",
    "TestTimeDuration = df_test.Date.max() - df_test.Date.min()\n",
    "ValidateMaxDate = df_train.Date.max()\n",
    "ValidateMinDate = ValidateMaxDate - TestTimeDuration\n",
    "\n",
    "valid_indices = df_train['Date'].apply(lambda x: (x >= ValidateMinDate and x <= ValidateMaxDate))\n",
    "\n",
    "train_indices = valid_indices.apply(lambda x: (not x))"
   ]
  },
  {
   "cell_type": "code",
   "execution_count": 8,
   "metadata": {},
   "outputs": [],
   "source": [
    "X_train = df_train[train_indices]\n",
    "X_valid = df_train[valid_indices]\n",
    "y_train = df_train['Sales'][train_indices]\n",
    "y_valid = df_train['Sales'][valid_indices]"
   ]
  },
  {
   "cell_type": "code",
   "execution_count": 9,
   "metadata": {},
   "outputs": [
    {
     "name": "stdout",
     "output_type": "stream",
     "text": [
      "Validation RMSPE: 0.1885\n",
      "make prediction on test set\n"
     ]
    }
   ],
   "source": [
    "# build the linear regression model\n",
    "reg = LinearRegression()\n",
    "reg.fit(X_train[features], y_train)\n",
    "# validation\n",
    "y_hat = reg.predict(X_valid[features])\n",
    "valid_err = rmspe(X_valid.Sales.values,y_hat)\n",
    "print(\"Validation RMSPE: {:.4f}\".format(valid_err))\n",
    "\n",
    "# make prediction on test set\n",
    "print(\"make prediction on test set\")\n",
    "y_test = reg.predict(df_test[features])"
   ]
  },
  {
   "cell_type": "code",
   "execution_count": 11,
   "metadata": {},
   "outputs": [],
   "source": [
    "submit_result = pd.DataFrame({'Id': test['Id'], 'Sales': y_test})\n",
    "submit_result.to_csv('submit_result\\linear_regression\\result.csv', index=False)"
   ]
  },
  {
   "cell_type": "code",
   "execution_count": null,
   "metadata": {},
   "outputs": [],
   "source": []
  }
 ],
 "metadata": {
  "kernelspec": {
   "display_name": "Python 3",
   "language": "python",
   "name": "python3"
  },
  "language_info": {
   "codemirror_mode": {
    "name": "ipython",
    "version": 3
   },
   "file_extension": ".py",
   "mimetype": "text/x-python",
   "name": "python",
   "nbconvert_exporter": "python",
   "pygments_lexer": "ipython3",
   "version": "3.6.8"
  }
 },
 "nbformat": 4,
 "nbformat_minor": 2
}
